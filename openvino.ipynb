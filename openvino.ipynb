{
 "cells": [
  {
   "cell_type": "code",
   "execution_count": 2,
   "metadata": {},
   "outputs": [],
   "source": [
    "import openvino as ov\n",
    "import numpy as np\n",
    "import pandas as pd\n",
    "from sinar.utils import fill_square"
   ]
  },
  {
   "cell_type": "code",
   "execution_count": 3,
   "metadata": {},
   "outputs": [
    {
     "name": "stderr",
     "output_type": "stream",
     "text": [
      "d:\\Python\\sinar-backend\\.venv\\Lib\\site-packages\\keras\\src\\engine\\training.py:3079: UserWarning: You are saving your model as an HDF5 file via `model.save()`. This file format is considered legacy. We recommend using instead the native Keras format, e.g. `model.save('my_model.keras')`.\n",
      "  saving_api.save_model(\n"
     ]
    }
   ],
   "source": [
    "import tensorflow as tf\n",
    "tf_model = tf.keras.models.load_model(\"./anbev-cnn-fix.keras\")\n",
    "tf.saved_model.save(tf_model, \"./anbev-cnn-fix\")"
   ]
  },
  {
   "cell_type": "code",
   "execution_count": 3,
   "metadata": {},
   "outputs": [
    {
     "name": "stdout",
     "output_type": "stream",
     "text": [
      "reading G:\\My Drive\\centroset\\set30.5\\normal-1-s0-1.csv\n",
      "reading G:\\My Drive\\centroset\\set30.5\\normal-1-s0-2.csv\n",
      "reading G:\\My Drive\\centroset\\set30.5\\normal-1-s0-3.csv\n",
      "reading G:\\My Drive\\centroset\\set30.5\\normal-1-s0-4.csv\n",
      "reading G:\\My Drive\\centroset\\set30.5\\normal-1-s0-5.csv\n",
      "reading G:\\My Drive\\centroset\\set30.5\\normal-1-s0-6.csv\n",
      "reading G:\\My Drive\\centroset\\set30.5\\normal-1-s0-7.csv\n",
      "reading G:\\My Drive\\centroset\\set30.5\\normal-1-s0-8.csv\n",
      "reading G:\\My Drive\\centroset\\set30.5\\normal-1-s0-9.csv\n",
      "reading G:\\My Drive\\centroset\\set30.5\\normal-1-s0-10.csv\n",
      "reading G:\\My Drive\\centroset\\set30.5\\normal-1-s0-11.csv\n",
      "reading G:\\My Drive\\centroset\\set30.5\\normal-2-s0-1.csv\n",
      "reading G:\\My Drive\\centroset\\set30.5\\normal-2-s0-2.csv\n",
      "reading G:\\My Drive\\centroset\\set30.5\\normal-2-s0-3.csv\n",
      "reading G:\\My Drive\\centroset\\set30.5\\normal-2-s0-4.csv\n",
      "reading G:\\My Drive\\centroset\\set30.5\\normal-2-s0-5.csv\n",
      "reading G:\\My Drive\\centroset\\set30.5\\normal-2-s0-6.csv\n",
      "reading G:\\My Drive\\centroset\\set30.5\\normal-2-s0-7.csv\n",
      "reading G:\\My Drive\\centroset\\set30.5\\normal-2-s0-8.csv\n",
      "reading G:\\My Drive\\centroset\\set30.5\\normal-2-s0-9.csv\n",
      "reading G:\\My Drive\\centroset\\set30.5\\normal-2-s0-10.csv\n",
      "reading G:\\My Drive\\centroset\\set30.5\\normal-2-s0-11.csv\n",
      "reading G:\\My Drive\\centroset\\set30.5\\geng-1-s0-1.csv\n",
      "reading G:\\My Drive\\centroset\\set30.5\\geng-1-s0-2.csv\n",
      "reading G:\\My Drive\\centroset\\set30.5\\geng-1-s0-3.csv\n",
      "reading G:\\My Drive\\centroset\\set30.5\\geng-1-s0-4.csv\n",
      "reading G:\\My Drive\\centroset\\set30.5\\geng-1-s0-5.csv\n",
      "reading G:\\My Drive\\centroset\\set30.5\\geng-3-s0-1.csv\n",
      "reading G:\\My Drive\\centroset\\set30.5\\geng-3-s0-2.csv\n",
      "reading G:\\My Drive\\centroset\\set30.5\\geng-2-s0-1.csv\n",
      "reading G:\\My Drive\\centroset\\set30.5\\geng-2-s0-2.csv\n",
      "reading G:\\My Drive\\centroset\\set30.5\\normal-3-s0-1.csv\n",
      "reading G:\\My Drive\\centroset\\set30.5\\normal-3-s0-2.csv\n",
      "reading G:\\My Drive\\centroset\\set30.5\\normal-3-s0-3.csv\n",
      "reading G:\\My Drive\\centroset\\set30.5\\normal-3-s0-4.csv\n",
      "reading G:\\My Drive\\centroset\\set30.5\\normal-3-s0-5.csv\n",
      "reading G:\\My Drive\\centroset\\set30.5\\normal-3-s0-6.csv\n",
      "reading G:\\My Drive\\centroset\\set30.5\\normal-3-s0-7.csv\n",
      "reading G:\\My Drive\\centroset\\set30.5\\normal-3-s0-8.csv\n",
      "reading G:\\My Drive\\centroset\\set30.5\\normal-3-s0-9.csv\n",
      "reading G:\\My Drive\\centroset\\set30.5\\normal-3-s0-10.csv\n",
      "reading G:\\My Drive\\centroset\\set30.5\\normal-3-s0-11.csv\n",
      "reading G:\\My Drive\\centroset\\set30.5\\normal-4-s0-1.csv\n",
      "reading G:\\My Drive\\centroset\\set30.5\\normal-4-s0-2.csv\n",
      "reading G:\\My Drive\\centroset\\set30.5\\normal-4-s0-3.csv\n",
      "reading G:\\My Drive\\centroset\\set30.5\\normal-4-s0-4.csv\n",
      "reading G:\\My Drive\\centroset\\set30.5\\normal-4-s0-5.csv\n",
      "reading G:\\My Drive\\centroset\\set30.5\\normal-4-s0-6.csv\n",
      "reading G:\\My Drive\\centroset\\set30.5\\normal-4-s0-7.csv\n",
      "reading G:\\My Drive\\centroset\\set30.5\\normal-4-s0-8.csv\n",
      "reading G:\\My Drive\\centroset\\set30.5\\normal-4-s0-9.csv\n",
      "reading G:\\My Drive\\centroset\\set30.5\\normal-4-s0-10.csv\n",
      "reading G:\\My Drive\\centroset\\set30.5\\normal-1-s1-1.csv\n",
      "reading G:\\My Drive\\centroset\\set30.5\\normal-1-s1-2.csv\n",
      "reading G:\\My Drive\\centroset\\set30.5\\normal-1-s1-3.csv\n",
      "reading G:\\My Drive\\centroset\\set30.5\\normal-1-s1-4.csv\n",
      "reading G:\\My Drive\\centroset\\set30.5\\normal-1-s1-5.csv\n",
      "reading G:\\My Drive\\centroset\\set30.5\\normal-1-s1-6.csv\n",
      "reading G:\\My Drive\\centroset\\set30.5\\normal-1-s1-7.csv\n",
      "reading G:\\My Drive\\centroset\\set30.5\\normal-1-s1-8.csv\n",
      "reading G:\\My Drive\\centroset\\set30.5\\normal-1-s1-9.csv\n",
      "reading G:\\My Drive\\centroset\\set30.5\\normal-1-s1-10.csv\n",
      "reading G:\\My Drive\\centroset\\set30.5\\normal-1-s1-11.csv\n",
      "reading G:\\My Drive\\centroset\\set30.5\\normal-2-s1-1.csv\n",
      "reading G:\\My Drive\\centroset\\set30.5\\normal-2-s1-2.csv\n",
      "reading G:\\My Drive\\centroset\\set30.5\\normal-2-s1-3.csv\n",
      "reading G:\\My Drive\\centroset\\set30.5\\normal-2-s1-4.csv\n",
      "reading G:\\My Drive\\centroset\\set30.5\\normal-2-s1-5.csv\n",
      "reading G:\\My Drive\\centroset\\set30.5\\normal-2-s1-6.csv\n",
      "reading G:\\My Drive\\centroset\\set30.5\\normal-2-s1-7.csv\n",
      "reading G:\\My Drive\\centroset\\set30.5\\normal-2-s1-8.csv\n",
      "reading G:\\My Drive\\centroset\\set30.5\\normal-2-s1-9.csv\n",
      "reading G:\\My Drive\\centroset\\set30.5\\normal-2-s1-10.csv\n",
      "reading G:\\My Drive\\centroset\\set30.5\\normal-2-s1-11.csv\n",
      "reading G:\\My Drive\\centroset\\set30.5\\geng-1-s1-1.csv\n",
      "reading G:\\My Drive\\centroset\\set30.5\\geng-1-s1-2.csv\n",
      "reading G:\\My Drive\\centroset\\set30.5\\geng-1-s1-3.csv\n",
      "reading G:\\My Drive\\centroset\\set30.5\\geng-1-s1-4.csv\n",
      "reading G:\\My Drive\\centroset\\set30.5\\geng-1-s1-5.csv\n",
      "reading G:\\My Drive\\centroset\\set30.5\\geng-3-s1-1.csv\n",
      "reading G:\\My Drive\\centroset\\set30.5\\geng-3-s1-2.csv\n",
      "reading G:\\My Drive\\centroset\\set30.5\\geng-2-s1-1.csv\n",
      "reading G:\\My Drive\\centroset\\set30.5\\geng-2-s1-2.csv\n",
      "reading G:\\My Drive\\centroset\\set30.5\\normal-3-s1-1.csv\n",
      "reading G:\\My Drive\\centroset\\set30.5\\normal-3-s1-2.csv\n",
      "reading G:\\My Drive\\centroset\\set30.5\\normal-3-s1-3.csv\n",
      "reading G:\\My Drive\\centroset\\set30.5\\normal-3-s1-4.csv\n",
      "reading G:\\My Drive\\centroset\\set30.5\\normal-3-s1-5.csv\n",
      "reading G:\\My Drive\\centroset\\set30.5\\normal-3-s1-6.csv\n",
      "reading G:\\My Drive\\centroset\\set30.5\\normal-3-s1-7.csv\n",
      "reading G:\\My Drive\\centroset\\set30.5\\normal-3-s1-8.csv\n",
      "reading G:\\My Drive\\centroset\\set30.5\\normal-3-s1-9.csv\n",
      "reading G:\\My Drive\\centroset\\set30.5\\normal-3-s1-10.csv\n",
      "reading G:\\My Drive\\centroset\\set30.5\\normal-3-s1-11.csv\n",
      "reading G:\\My Drive\\centroset\\set30.5\\normal-4-s1-1.csv\n",
      "reading G:\\My Drive\\centroset\\set30.5\\normal-4-s1-2.csv\n",
      "reading G:\\My Drive\\centroset\\set30.5\\normal-4-s1-3.csv\n",
      "reading G:\\My Drive\\centroset\\set30.5\\normal-4-s1-4.csv\n",
      "reading G:\\My Drive\\centroset\\set30.5\\normal-4-s1-5.csv\n",
      "reading G:\\My Drive\\centroset\\set30.5\\normal-4-s1-6.csv\n",
      "reading G:\\My Drive\\centroset\\set30.5\\normal-4-s1-7.csv\n",
      "reading G:\\My Drive\\centroset\\set30.5\\normal-4-s1-8.csv\n",
      "reading G:\\My Drive\\centroset\\set30.5\\normal-4-s1-9.csv\n",
      "reading G:\\My Drive\\centroset\\set30.5\\normal-4-s1-10.csv\n",
      "reading G:\\My Drive\\centroset\\set30.5\\normal-5-s0-1.csv\n",
      "reading G:\\My Drive\\centroset\\set30.5\\normal-5-s0-2.csv\n",
      "reading G:\\My Drive\\centroset\\set30.5\\normal-5-s0-3.csv\n",
      "reading G:\\My Drive\\centroset\\set30.5\\normal-5-s0-4.csv\n",
      "reading G:\\My Drive\\centroset\\set30.5\\normal-5-s0-5.csv\n",
      "reading G:\\My Drive\\centroset\\set30.5\\normal-5-s0-6.csv\n",
      "reading G:\\My Drive\\centroset\\set30.5\\normal-5-s0-7.csv\n",
      "reading G:\\My Drive\\centroset\\set30.5\\normal-5-s0-8.csv\n",
      "reading G:\\My Drive\\centroset\\set30.5\\normal-5-s0-9.csv\n",
      "reading G:\\My Drive\\centroset\\set30.5\\normal-5-s0-10.csv\n",
      "reading G:\\My Drive\\centroset\\set30.5\\normal-8-s0-1.csv\n",
      "reading G:\\My Drive\\centroset\\set30.5\\normal-8-s0-2.csv\n",
      "reading G:\\My Drive\\centroset\\set30.5\\normal-8-s0-3.csv\n",
      "reading G:\\My Drive\\centroset\\set30.5\\normal-8-s0-4.csv\n",
      "reading G:\\My Drive\\centroset\\set30.5\\normal-8-s0-5.csv\n",
      "reading G:\\My Drive\\centroset\\set30.5\\normal-8-s0-6.csv\n",
      "reading G:\\My Drive\\centroset\\set30.5\\normal-8-s0-7.csv\n",
      "reading G:\\My Drive\\centroset\\set30.5\\normal-8-s0-8.csv\n",
      "reading G:\\My Drive\\centroset\\set30.5\\normal-8-s0-9.csv\n",
      "reading G:\\My Drive\\centroset\\set30.5\\normal-8-s0-10.csv\n",
      "reading G:\\My Drive\\centroset\\set30.5\\normal-8-s0-11.csv\n",
      "reading G:\\My Drive\\centroset\\set30.5\\normal-8-s0-12.csv\n",
      "reading G:\\My Drive\\centroset\\set30.5\\normal-8-s0-13.csv\n",
      "reading G:\\My Drive\\centroset\\set30.5\\normal-8-s0-14.csv\n",
      "reading G:\\My Drive\\centroset\\set30.5\\normal-8-s0-15.csv\n",
      "reading G:\\My Drive\\centroset\\set30.5\\geng-1-s3-1.csv\n",
      "reading G:\\My Drive\\centroset\\set30.5\\geng-1-s3-2.csv\n",
      "reading G:\\My Drive\\centroset\\set30.5\\geng-1-s3-3.csv\n",
      "reading G:\\My Drive\\centroset\\set30.5\\geng-1-s3-4.csv\n",
      "reading G:\\My Drive\\centroset\\set30.5\\geng-1-s3-5.csv\n",
      "reading G:\\My Drive\\centroset\\set30.5\\geng-3-s3-1.csv\n",
      "reading G:\\My Drive\\centroset\\set30.5\\geng-3-s3-2.csv\n",
      "reading G:\\My Drive\\centroset\\set30.5\\geng-2-s3-1.csv\n",
      "reading G:\\My Drive\\centroset\\set30.5\\geng-2-s3-2.csv\n"
     ]
    }
   ],
   "source": [
    "import glob, random, os\n",
    "import pandas as pd\n",
    "# file_list = glob.glob(\"/content/drive/MyDrive/centroset/set30.5/*.csv\")\n",
    "file_list = glob.glob(\"G:\\My Drive\\centroset\\set30.5\\*.csv\")\n",
    "# random.shuffle(file_list)\n",
    "X = []\n",
    "y = []\n",
    "for csv in file_list:\n",
    "    print(f\"reading {csv}\")\n",
    "    # the X\n",
    "    df = pd.read_csv(csv, index_col=\"Unnamed: 0\")\n",
    "    X.append(fill_square(df.values))\n",
    "    # the y\n",
    "    if os.path.basename(csv).startswith(\"normal\"):\n",
    "        y.append(0)\n",
    "    else:\n",
    "        y.append(1)"
   ]
  },
  {
   "cell_type": "code",
   "execution_count": 10,
   "metadata": {},
   "outputs": [],
   "source": [
    "X = np.array(X, dtype=np.float32).reshape(-1, 30, 30, 1)"
   ]
  },
  {
   "cell_type": "code",
   "execution_count": 5,
   "metadata": {},
   "outputs": [],
   "source": [
    "ov_model = ov.convert_model(\"anbev-cnn-fix\")\n",
    "core = ov.Core()\n",
    "compiled_model = core.compile_model(ov_model)"
   ]
  },
  {
   "cell_type": "code",
   "execution_count": 6,
   "metadata": {},
   "outputs": [],
   "source": [
    "infer_request = compiled_model.create_infer_request()"
   ]
  },
  {
   "cell_type": "code",
   "execution_count": 11,
   "metadata": {},
   "outputs": [
    {
     "data": {
      "text/plain": [
       "<Tensor: shape[138,30,30,1] type: f32>"
      ]
     },
     "execution_count": 11,
     "metadata": {},
     "output_type": "execute_result"
    }
   ],
   "source": [
    "input_tensor = ov.Tensor(X)\n",
    "input_tensor"
   ]
  },
  {
   "cell_type": "code",
   "execution_count": 1,
   "metadata": {},
   "outputs": [],
   "source": [
    "def do_inference(ir, input_tensor):\n",
    "    ir.set_input_tensor(input_tensor)\n",
    "    ir.start_async()\n",
    "    ir.wait()\n",
    "    output = infer_request.get_output_tensor()\n",
    "    return output.data"
   ]
  },
  {
   "cell_type": "code",
   "execution_count": 2,
   "metadata": {},
   "outputs": [
    {
     "ename": "NameError",
     "evalue": "name 'infer_request' is not defined",
     "output_type": "error",
     "traceback": [
      "\u001b[1;31m---------------------------------------------------------------------------\u001b[0m",
      "\u001b[1;31mNameError\u001b[0m                                 Traceback (most recent call last)",
      "\u001b[1;32md:\\Python\\sinar-backend\\openvino.ipynb Cell 9\u001b[0m line \u001b[0;36m1\n\u001b[1;32m----> <a href='vscode-notebook-cell:/d%3A/Python/sinar-backend/openvino.ipynb#X10sZmlsZQ%3D%3D?line=0'>1</a>\u001b[0m output_buffer \u001b[39m=\u001b[39m do_inference(infer_request, input_tensor)\n",
      "\u001b[1;31mNameError\u001b[0m: name 'infer_request' is not defined"
     ]
    }
   ],
   "source": [
    "output_buffer = do_inference(infer_request, input_tensor)"
   ]
  },
  {
   "cell_type": "code",
   "execution_count": 21,
   "metadata": {},
   "outputs": [
    {
     "data": {
      "text/plain": [
       "array([0, 0, 0, 0, 0, 0, 0, 0, 0, 0, 1, 0, 0, 0, 0, 0, 0, 0, 0, 0, 0, 0, 1, 1, 0, 1, 1, 1, 1, 1, 1, 0, 0, 0, 0, 0, 0, 0, 0, 0, 0, 0, 0, 0, 0, 0, 0, 0, 0, 0, 0, 0, 0, 0, 0, 0, 0, 0, 0, 0, 0, 0, 1, 0, 0, 0, 0, 0, 0, 0, 0, 0, 0, 0, 1, 1, 0, 1, 1, 1, 1, 1, 1, 0, 0, 0, 0, 0, 0, 0, 0, 0, 0, 0, 0, 0, 0, 0, 0, 0, 0, 0, 0, 0,\n",
       "       0, 0, 0, 0, 0, 0, 0, 0, 0, 0, 0, 0, 0, 0, 0, 0, 0, 0, 0, 0, 0, 0, 0, 0, 0, 1, 1, 0, 0, 1, 1, 0, 1, 0])"
      ]
     },
     "execution_count": 21,
     "metadata": {},
     "output_type": "execute_result"
    }
   ],
   "source": [
    "output_buffer.round().flatten().astype(np.int32)"
   ]
  },
  {
   "cell_type": "code",
   "execution_count": 17,
   "metadata": {},
   "outputs": [
    {
     "data": {
      "text/plain": [
       "[0,\n",
       " 0,\n",
       " 0,\n",
       " 0,\n",
       " 0,\n",
       " 0,\n",
       " 0,\n",
       " 0,\n",
       " 0,\n",
       " 0,\n",
       " 0,\n",
       " 0,\n",
       " 0,\n",
       " 0,\n",
       " 0,\n",
       " 0,\n",
       " 0,\n",
       " 0,\n",
       " 0,\n",
       " 0,\n",
       " 0,\n",
       " 0,\n",
       " 1,\n",
       " 1,\n",
       " 1,\n",
       " 1,\n",
       " 1,\n",
       " 1,\n",
       " 1,\n",
       " 1,\n",
       " 1,\n",
       " 0,\n",
       " 0,\n",
       " 0,\n",
       " 0,\n",
       " 0,\n",
       " 0,\n",
       " 0,\n",
       " 0,\n",
       " 0,\n",
       " 0,\n",
       " 0,\n",
       " 0,\n",
       " 0,\n",
       " 0,\n",
       " 0,\n",
       " 0,\n",
       " 0,\n",
       " 0,\n",
       " 0,\n",
       " 0,\n",
       " 0,\n",
       " 0,\n",
       " 0,\n",
       " 0,\n",
       " 0,\n",
       " 0,\n",
       " 0,\n",
       " 0,\n",
       " 0,\n",
       " 0,\n",
       " 0,\n",
       " 0,\n",
       " 0,\n",
       " 0,\n",
       " 0,\n",
       " 0,\n",
       " 0,\n",
       " 0,\n",
       " 0,\n",
       " 0,\n",
       " 0,\n",
       " 0,\n",
       " 0,\n",
       " 1,\n",
       " 1,\n",
       " 1,\n",
       " 1,\n",
       " 1,\n",
       " 1,\n",
       " 1,\n",
       " 1,\n",
       " 1,\n",
       " 0,\n",
       " 0,\n",
       " 0,\n",
       " 0,\n",
       " 0,\n",
       " 0,\n",
       " 0,\n",
       " 0,\n",
       " 0,\n",
       " 0,\n",
       " 0,\n",
       " 0,\n",
       " 0,\n",
       " 0,\n",
       " 0,\n",
       " 0,\n",
       " 0,\n",
       " 0,\n",
       " 0,\n",
       " 0,\n",
       " 0,\n",
       " 0,\n",
       " 0,\n",
       " 0,\n",
       " 0,\n",
       " 0,\n",
       " 0,\n",
       " 0,\n",
       " 0,\n",
       " 0,\n",
       " 0,\n",
       " 0,\n",
       " 0,\n",
       " 0,\n",
       " 0,\n",
       " 0,\n",
       " 0,\n",
       " 0,\n",
       " 0,\n",
       " 0,\n",
       " 0,\n",
       " 0,\n",
       " 0,\n",
       " 0,\n",
       " 0,\n",
       " 0,\n",
       " 1,\n",
       " 1,\n",
       " 1,\n",
       " 1,\n",
       " 1,\n",
       " 1,\n",
       " 1,\n",
       " 1,\n",
       " 1]"
      ]
     },
     "execution_count": 17,
     "metadata": {},
     "output_type": "execute_result"
    }
   ],
   "source": [
    "y"
   ]
  }
 ],
 "metadata": {
  "kernelspec": {
   "display_name": ".venv",
   "language": "python",
   "name": "python3"
  },
  "language_info": {
   "codemirror_mode": {
    "name": "ipython",
    "version": 3
   },
   "file_extension": ".py",
   "mimetype": "text/x-python",
   "name": "python",
   "nbconvert_exporter": "python",
   "pygments_lexer": "ipython3",
   "version": "3.11.6"
  }
 },
 "nbformat": 4,
 "nbformat_minor": 2
}
